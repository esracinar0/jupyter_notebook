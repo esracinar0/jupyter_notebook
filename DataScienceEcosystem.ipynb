{
 "cells": [
  {
   "cell_type": "code",
   "execution_count": null,
   "id": "782da3a1-1889-4086-955c-1e45f1798a66",
   "metadata": {},
   "outputs": [],
   "source": []
  },
  {
   "cell_type": "code",
   "execution_count": 7,
   "id": "af492463-e8ef-4782-bb55-1a5ac0755048",
   "metadata": {},
   "outputs": [],
   "source": [
    "## Exercise 2: Create markdown cell with title of the notebook\n",
    "## Create a markdown cell with the title Data Science Tools and Ecosystem using H1 style heading."
   ]
  },
  {
   "cell_type": "markdown",
   "id": "a716bf66-7c7d-4508-90d0-f565ea76a876",
   "metadata": {},
   "source": [
    "## Data Science Tools and Ecosystem "
   ]
  },
  {
   "cell_type": "code",
   "execution_count": 8,
   "id": "b956470a-c30b-431f-87ab-c9877d6f0d51",
   "metadata": {},
   "outputs": [],
   "source": [
    "## Exercise 3 - Create a markdown cell for an introduction\n",
    "## Write an introductory sentence about the notebook such as the follows:"
   ]
  },
  {
   "cell_type": "markdown",
   "id": "4678d4f6-9495-40c3-8a85-0e30df7c79cc",
   "metadata": {},
   "source": [
    "In this notebook, Data Science Tools and Ecosystem are summarized."
   ]
  },
  {
   "cell_type": "code",
   "execution_count": null,
   "id": "4418ec8f-4d9d-449c-87a2-3751c04f7e3a",
   "metadata": {},
   "outputs": [],
   "source": [
    "## Exercise 10 - Insert a markdown cell to list Objectives\n",
    "## Below the introduction cell created in Exercise 3, insert a new markdown cell to list the objectives that this notebook covered (i.e. some of the key takeaways from the course). In this new cell start with an introductory line titled: Objectives: in bold font. Then using an unordered list (bullets) indicate 3 to 5 items covered in this notebook, such as List popular languages for Data Science"
   ]
  },
  {
   "cell_type": "markdown",
   "id": "d131de71-103c-4c1b-ad40-a21c4d408579",
   "metadata": {},
   "source": [
    "**List popular languages for Data Science**\n",
    "- Python\n",
    "- R\n",
    "- Julia"
   ]
  },
  {
   "cell_type": "code",
   "execution_count": 9,
   "id": "e96dc007-58b8-4fec-8f35-4f24bbaab366",
   "metadata": {},
   "outputs": [],
   "source": [
    "## Exercise 4 - Create a markdown cell to list data science languages\n",
    "## Start the cell with an overview line such as:\n",
    "## Some of the popular languages that Data Scientists use are:\n",
    "## Then create an ordered list (i.e. numbered) listing 3 (or more) commonly used languages for data science."
   ]
  },
  {
   "cell_type": "markdown",
   "id": "5739dc59-71a1-4e9f-b6c8-8d8f120deddc",
   "metadata": {},
   "source": [
    "Some of the popular languages that Data Scientists use are:"
   ]
  },
  {
   "cell_type": "markdown",
   "id": "465e5c34-d465-46ba-a080-d9aa1053d556",
   "metadata": {},
   "source": [
    "1. Python\n",
    "2. R\n",
    "3. Julia"
   ]
  },
  {
   "cell_type": "code",
   "execution_count": null,
   "id": "8a04453e-afdc-4530-8ae5-a3b4014df4f1",
   "metadata": {},
   "outputs": [],
   "source": [
    "## Exercise 5 - Create a markdown cell to list data science libraries\n",
    "## Add an overview line to the cell like:\n",
    "## Some of the commonly used libraries used by Data Scientists include:\n",
    "## Below this line add an ordered list listing 3 (or more) commonly used libraries in data science"
   ]
  },
  {
   "cell_type": "markdown",
   "id": "9a8f4eda-2fa1-4634-857e-f84e1d95096c",
   "metadata": {},
   "source": [
    "Some of the commonly used libraries used by Data Scientists include:"
   ]
  },
  {
   "cell_type": "markdown",
   "id": "13d68d65-b8b1-4f40-81cc-d5e61e9b91f4",
   "metadata": {},
   "source": [
    "1. Pandas\n",
    "2. Numpy\n",
    "3. Matplotlib\n",
    "4. Seaborn"
   ]
  },
  {
   "cell_type": "code",
   "execution_count": 11,
   "id": "58f90e67-bc7e-4ae1-9206-2a2c14d03373",
   "metadata": {},
   "outputs": [],
   "source": [
    "## Exercise 6 - Create a markdown cell with a table of Data Science tools\n",
    "## Create a single column table in this cell with the first row containing the header Data Science Tools. The subsequent three rows in the table should indicate three development environment open source tools used in data science."
   ]
  },
  {
   "cell_type": "markdown",
   "id": "e3d17cad-495a-4d1f-a62c-ac783f52e3cc",
   "metadata": {},
   "source": [
    "|Data Science Tools|\n",
    "|------------------|\n",
    "|Jupyter Notebook|\n",
    "|RStudio|\n",
    "|Apache Zeppelin|\n"
   ]
  },
  {
   "cell_type": "code",
   "execution_count": 12,
   "id": "2caa1827-20bc-4807-bdb3-bf7a8ddb70dc",
   "metadata": {},
   "outputs": [],
   "source": [
    "## Exercise 7 - Create a markdown cell introducing arithmetic expression examples\n",
    "## Add a line in this cell with H3 style heading with text like:\n",
    "## Below are a few examples of evaluating arithmetic expressions in Python"
   ]
  },
  {
   "cell_type": "markdown",
   "id": "cd1a04e3-ff6a-4077-af99-05d1cf9bb2bc",
   "metadata": {},
   "source": [
    "### Below are a few examples of evaluating arithmetic expressions in Python"
   ]
  },
  {
   "cell_type": "code",
   "execution_count": 13,
   "id": "5f267707-57e7-4c67-90ba-cd99bf4ca49c",
   "metadata": {},
   "outputs": [],
   "source": [
    "## Exercise 8 - Create a code cell to multiply and add numbers\n",
    "## In this code cell evaluate the expression (3*4)+5.\n",
    "## Insert a comment line before the expression to explain the operation e.g.  This a simple arithmetic expression to mutiply then add integers.\n",
    "## Then execute the cell to ensure the expression returns the expected output of 17."
   ]
  },
  {
   "cell_type": "code",
   "execution_count": 17,
   "id": "385fd57a-515e-4615-9e2a-2045468c990d",
   "metadata": {},
   "outputs": [
    {
     "data": {
      "text/plain": [
       "17"
      ]
     },
     "execution_count": 17,
     "metadata": {},
     "output_type": "execute_result"
    }
   ],
   "source": [
    "## This a simple arithmetic expression to mutiply then add integers.\n",
    "(3*4)+5"
   ]
  },
  {
   "cell_type": "code",
   "execution_count": 16,
   "id": "2c0d2e81-efe8-4699-babf-c4562180398b",
   "metadata": {},
   "outputs": [],
   "source": [
    "## Exercise 9 - Create a code cell to convert minutes to hours\n",
    "## In this code cell write an expression that converts 200 minutes into hours.\n",
    "## Insert a comment line before the expression to explain the operation e.g.  This will convert 200 minutes to hours by diving by 60.\n",
    "## Run the cell to evaluate the expression."
   ]
  },
  {
   "cell_type": "code",
   "execution_count": 18,
   "id": "6fd43fa6-0ef5-4f81-b1f6-41cbd8f842c9",
   "metadata": {},
   "outputs": [
    {
     "data": {
      "text/plain": [
       "3.3333333333333335"
      ]
     },
     "execution_count": 18,
     "metadata": {},
     "output_type": "execute_result"
    }
   ],
   "source": [
    "## This will convert 200 minutes to hours by diving by 60.\n",
    "200/60"
   ]
  },
  {
   "cell_type": "code",
   "execution_count": 19,
   "id": "5fe20719-59df-48bf-97e2-bed3e3107b79",
   "metadata": {},
   "outputs": [],
   "source": [
    "## Exercise 11 - Create a markdown cell to indicate the Author's name\n",
    "## In this markdown cell markdown cell include the following text Author in H2 style heading. Include your name as regular text below the word Author"
   ]
  },
  {
   "cell_type": "markdown",
   "id": "08879a7c-c439-4dcd-a85b-689fd02ca9c2",
   "metadata": {},
   "source": [
    "## Author\n",
    "Esra"
   ]
  },
  {
   "cell_type": "code",
   "execution_count": null,
   "id": "cab40cc5-fb95-4d2e-a85c-2df6a67d8724",
   "metadata": {},
   "outputs": [],
   "source": []
  }
 ],
 "metadata": {
  "kernelspec": {
   "display_name": "Python 3 (ipykernel)",
   "language": "python",
   "name": "python3"
  },
  "language_info": {
   "codemirror_mode": {
    "name": "ipython",
    "version": 3
   },
   "file_extension": ".py",
   "mimetype": "text/x-python",
   "name": "python",
   "nbconvert_exporter": "python",
   "pygments_lexer": "ipython3",
   "version": "3.13.2"
  }
 },
 "nbformat": 4,
 "nbformat_minor": 5
}
